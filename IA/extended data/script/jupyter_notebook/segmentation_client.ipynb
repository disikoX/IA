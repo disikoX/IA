{
 "cells": [
  {
   "cell_type": "code",
   "execution_count": null,
   "id": "d7f99e9f",
   "metadata": {},
   "outputs": [
    {
     "name": "stderr",
     "output_type": "stream",
     "text": [
      "d:\\Programmes\\anaconda\\Lib\\site-packages\\sklearn\\cluster\\_kmeans.py:1446: UserWarning: KMeans is known to have a memory leak on Windows with MKL, when there are less chunks than available threads. You can avoid it by setting the environment variable OMP_NUM_THREADS=1.\n",
      "  warnings.warn(\n"
     ]
    }
   ],
   "source": [
    "import pandas as pd\n",
    "from sklearn.cluster import KMeans\n",
    "from sklearn.preprocessing import StandardScaler\n",
    "\n",
    "sales = pd.read_excel(\"../../sales_data_extended.xlsx\")\n",
    "cust = pd.read_excel(\"../../customers_data_extended.xlsx\")\n",
    "\n",
    "# Nettoyage des données de ventes (certains prix sont manquants)\n",
    "sales = sales.dropna(subset=['Sale_Price'])\n",
    "\n",
    "# Fusion\n",
    "df = (\n",
    "    sales.groupby(\"Customer_ID\")\n",
    "    .agg(\n",
    "        Total_Spent=(\"Sale_Price\", \"sum\"),\n",
    "        Num_Purchases=(\"Sale_ID\", \"count\"),\n",
    "        Avg_Order_Value=(\"Sale_Price\", \"mean\"),\n",
    "    )\n",
    "    .reset_index()\n",
    ")\n",
    "\n",
    "df = df.merge(cust[[\"Customer_ID\", \"Age\", \"Gender\"]], on=\"Customer_ID\")\n",
    "\n",
    "# Clustering\n",
    "X = df[[\"Age\", \"Total_Spent\", \"Num_Purchases\", \"Avg_Order_Value\"]]\n",
    "X_scaled = StandardScaler().fit_transform(X)\n",
    "\n",
    "kmeans = KMeans(n_clusters=3, random_state=42).fit(X_scaled)\n",
    "df[\"Cluster\"] = kmeans.labels_\n"
   ]
  }
 ],
 "metadata": {
  "kernelspec": {
   "display_name": "base",
   "language": "python",
   "name": "python3"
  },
  "language_info": {
   "codemirror_mode": {
    "name": "ipython",
    "version": 3
   },
   "file_extension": ".py",
   "mimetype": "text/x-python",
   "name": "python",
   "nbconvert_exporter": "python",
   "pygments_lexer": "ipython3",
   "version": "3.12.4"
  }
 },
 "nbformat": 4,
 "nbformat_minor": 5
}
